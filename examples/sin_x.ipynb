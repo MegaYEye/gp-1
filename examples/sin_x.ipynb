{
 "cells": [
  {
   "cell_type": "code",
   "execution_count": 1,
   "metadata": {},
   "outputs": [],
   "source": [
    "%matplotlib inline"
   ]
  },
  {
   "cell_type": "code",
   "execution_count": 2,
   "metadata": {},
   "outputs": [],
   "source": [
    "from __future__ import print_function\n",
    "\n",
    "import theano\n",
    "import numpy as np\n",
    "import matplotlib.pyplot as plt\n",
    "from gp import GaussianProcess, RBFKernel"
   ]
  },
  {
   "cell_type": "code",
   "execution_count": 3,
   "metadata": {},
   "outputs": [],
   "source": [
    "debug = True\n",
    "if debug:\n",
    "    theano.config.mode = \"FAST_COMPILE\"\n",
    "    theano.config.optimizer = \"fast_compile\"\n",
    "    theano.config.exception_verbosity = \"high\"\n",
    "else:\n",
    "    theano.config.mode = \"FAST_RUN\"\n",
    "    theano.config.optimizer = \"fast_run\""
   ]
  },
  {
   "cell_type": "code",
   "execution_count": 4,
   "metadata": {},
   "outputs": [],
   "source": [
    "def secret_function(x, noise=0.0):\n",
    "    return x * np.sin(x) + noise * np.random.normal(size=x.shape)"
   ]
  },
  {
   "cell_type": "code",
   "execution_count": 5,
   "metadata": {},
   "outputs": [],
   "source": [
    "def as_shared(x, name, borrow=True):\n",
    "    return theano.shared(value=x, name=name, borrow=borrow)"
   ]
  },
  {
   "cell_type": "code",
   "execution_count": 6,
   "metadata": {},
   "outputs": [],
   "source": [
    "def print_mean_squared_error(gp, x, y):\n",
    "    mu = gp.compute_mean(x)\n",
    "    error = np.average((mu - y)**2)\n",
    "    print(\"mean squared error\", error)"
   ]
  },
  {
   "cell_type": "code",
   "execution_count": 7,
   "metadata": {},
   "outputs": [],
   "source": [
    "def print_log_likelihood(gp, x, y):\n",
    "    training_data = {gp.X: x, gp.Y: y}\n",
    "    print(\"log likelihood\", np.asscalar(gp.log_likelihood.eval(training_data)))"
   ]
  },
  {
   "cell_type": "code",
   "execution_count": 8,
   "metadata": {},
   "outputs": [],
   "source": [
    "def print_hyperparameters(gp):\n",
    "    for param in gp.hyperparameters:\n",
    "        print(param.name, param.get_value())"
   ]
  },
  {
   "cell_type": "code",
   "execution_count": 9,
   "metadata": {},
   "outputs": [],
   "source": [
    "def plot_variance(gp, x, y, title=None, std_factor=1.0):\n",
    "    mu = gp.compute_mean(x)\n",
    "    std = gp.compute_standard_deviation(x) * std_factor\n",
    "\n",
    "    plt.figure(figsize=(12, 6))\n",
    "    samples_plt, = plt.plot(\n",
    "        gp.X_train.get_value(), gp.Y_train.get_value(),\n",
    "        \"bs\", ms=4, label=\"Sampled points\")\n",
    "    y_plt, = plt.plot(x, y, \"k--\", label=\"Ground truth\")\n",
    "    mean_plt, = plt.plot(x, mu, \"r\", label=\"Estimate\")\n",
    "    std_plt = plt.gca().fill_between(\n",
    "        x.flat, (mu - 3 * std).flat, (mu + 3 * std).flat,\n",
    "        color=\"#dddddd\", label=\"Three standard deviations\")\n",
    "    plt.axis([-4, 4, -4, 4])\n",
    "    plt.title(\"Gaussian Process Estimate\" if title is None else title)\n",
    "    plt.legend(handles=[samples_plt, y_plt, mean_plt, std_plt])\n",
    "    plt.show()"
   ]
  },
  {
   "cell_type": "code",
   "execution_count": 10,
   "metadata": {},
   "outputs": [],
   "source": [
    "# Training data.\n",
    "X = np.random.uniform(-4, 4, 10).reshape(-1, 1)\n",
    "X = np.vstack([X, X, X, X])\n",
    "X = as_shared(X, \"X\")\n",
    "Y = as_shared(secret_function(X.get_value(), noise=1e-1), \"Y\")"
   ]
  },
  {
   "cell_type": "code",
   "execution_count": 11,
   "metadata": {},
   "outputs": [],
   "source": [
    "# Test data.\n",
    "x = as_shared(np.linspace(-4, 4, 1000).reshape(-1, 1), \"x\")\n",
    "y = as_shared(secret_function(x.get_value(), noise=0.0), \"y\")"
   ]
  },
  {
   "cell_type": "code",
   "execution_count": null,
   "metadata": {},
   "outputs": [],
   "source": [
    "# Hyperparameters.\n",
    "sigma_s = as_shared(np.random.random(), \"sigma_s\")\n",
    "sigma_n = as_shared(np.random.random() * 1e-1, \"sigma_n\")\n",
    "length_scale = as_shared(np.random.random(), \"length_scale\")"
   ]
  },
  {
   "cell_type": "code",
   "execution_count": null,
   "metadata": {},
   "outputs": [],
   "source": [
    "# Construct GP.\n",
    "kernel = RBFKernel(length_scale, sigma_s, sigma_n)\n",
    "gp = GaussianProcess(kernel, sigma_n)"
   ]
  },
  {
   "cell_type": "code",
   "execution_count": null,
   "metadata": {},
   "outputs": [],
   "source": [
    "gp.fit(X, Y, skip_optimization=True)"
   ]
  },
  {
   "cell_type": "code",
   "execution_count": null,
   "metadata": {},
   "outputs": [],
   "source": [
    "gp.compile()"
   ]
  },
  {
   "cell_type": "code",
   "execution_count": null,
   "metadata": {
    "scrolled": true
   },
   "outputs": [],
   "source": [
    "plot_variance(gp, x.get_value(), y.get_value(), title=\"Before Optimization\")\n",
    "print_mean_squared_error(gp, x.get_value(), y.get_value())\n",
    "print_log_likelihood(gp, X.get_value(), Y.get_value())\n",
    "print_hyperparameters(gp)"
   ]
  },
  {
   "cell_type": "code",
   "execution_count": null,
   "metadata": {},
   "outputs": [],
   "source": [
    "gp.fit(X, Y)"
   ]
  },
  {
   "cell_type": "code",
   "execution_count": null,
   "metadata": {},
   "outputs": [],
   "source": [
    "plot_variance(gp, x.get_value(), y.get_value(), title=\"After Optimization\")\n",
    "print_mean_squared_error(gp, x.get_value(), y.get_value())\n",
    "print_log_likelihood(gp, X.get_value(), Y.get_value())\n",
    "print_hyperparameters(gp)"
   ]
  }
 ],
 "metadata": {
  "kernelspec": {
   "display_name": "Python 3",
   "language": "python",
   "name": "python3"
  },
  "language_info": {
   "codemirror_mode": {
    "name": "ipython",
    "version": 3
   },
   "file_extension": ".py",
   "mimetype": "text/x-python",
   "name": "python",
   "nbconvert_exporter": "python",
   "pygments_lexer": "ipython3",
   "version": "3.6.3"
  }
 },
 "nbformat": 4,
 "nbformat_minor": 2
}
